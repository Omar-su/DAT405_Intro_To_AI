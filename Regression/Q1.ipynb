{
 "cells": [
  {
   "cell_type": "code",
   "execution_count": 14,
   "id": "5fb88da3",
   "metadata": {},
   "outputs": [
    {
     "data": {
      "text/plain": [
       "array([0.02220719])"
      ]
     },
     "execution_count": 14,
     "metadata": {},
     "output_type": "execute_result"
    }
   ],
   "source": [
    "# importing necessary libraries\n",
    "import numpy as np\n",
    "import matplotlib.pyplot as plt\n",
    "from sklearn import linear_model\n",
    "import pandas as pd\n",
    "\n",
    "# Authors : Omar Sulaiman and Yasmine Fahraoui\n",
    "\n",
    "\n",
    "# Read the file\n",
    "df = pd.read_csv(\"C:/Users/omars/Downloads/Assignment2/Landvetter.xls\")\n",
    "\n",
    "# Train the linear model\n",
    "reg = linear_model.LinearRegression()\n",
    "reg.fit(df[['living area']], df['selling price'])\n",
    "\n",
    "\n",
    "# Value of k in y = kx + m meaning the slope \n",
    "reg.coef_"
   ]
  },
  {
   "cell_type": "code",
   "execution_count": 15,
   "id": "c69d2a56",
   "metadata": {},
   "outputs": [
    {
     "data": {
      "text/plain": [
       "2.446069032205589"
      ]
     },
     "execution_count": 15,
     "metadata": {},
     "output_type": "execute_result"
    }
   ],
   "source": [
    "# Value of m meaning the intercept value\n",
    "reg.intercept_"
   ]
  },
  {
   "cell_type": "code",
   "execution_count": 20,
   "id": "e41353ce",
   "metadata": {},
   "outputs": [
    {
     "data": {
      "text/plain": [
       "array([4.66678798, 5.77714745, 6.88750692])"
      ]
     },
     "execution_count": 20,
     "metadata": {},
     "output_type": "execute_result"
    }
   ],
   "source": [
    "# Predict  living area 100 m2, 150 m2 and 200 m2\n",
    "reg.predict([[100],[150],[200]])\n"
   ]
  },
  {
   "cell_type": "code",
   "execution_count": 21,
   "id": "9ebe606f",
   "metadata": {},
   "outputs": [
    {
     "data": {
      "text/plain": [
       "<matplotlib.collections.PathCollection at 0x2216bf6aa60>"
      ]
     },
     "execution_count": 21,
     "metadata": {},
     "output_type": "execute_result"
    },
    {
     "data": {
      "image/png": "[encoded data removed]",
      "text/plain": [
       "<Figure size 432x288 with 1 Axes>"
      ]
     },
     "metadata": {
      "needs_background": "light"
     },
     "output_type": "display_data"
    }
   ],
   "source": [
    "plt.xlabel('Living Area[m^2]')\n",
    "plt.ylabel('Selling Price[sek]')\n",
    "plt.scatter(df['living area'], df['selling price'])"
   ]
  },
  {
   "cell_type": "code",
   "execution_count": 22,
   "id": "cf8b2c72",
   "metadata": {},
   "outputs": [
    {
     "data": {
      "text/plain": [
       "<matplotlib.collections.PathCollection at 0x2216c07faf0>"
      ]
     },
     "execution_count": 22,
     "metadata": {},
     "output_type": "execute_result"
    },
    {
     "data": {
      "image/png": "[encoded data removed]",
      "text/plain": [
       "<Figure size 432x288 with 1 Axes>"
      ]
     },
     "metadata": {
      "needs_background": "light"
     },
     "output_type": "display_data"
    }
   ],
   "source": [
    "y_pred = reg.predict(df[['living area']])\n",
    "residuals = df['living area'] - y_pred\n",
    "plt.scatter(residuals, y_pred)\n"
   ]
  },
  {
   "cell_type": "code",
   "execution_count": null,
   "id": "0311660c",
   "metadata": {},
   "outputs": [],
   "source": []
  }
 ],
 "metadata": {
  "kernelspec": {
   "display_name": "Python 3 (ipykernel)",
   "language": "python",
   "name": "python3"
  },
  "language_info": {
   "codemirror_mode": {
    "name": "ipython",
    "version": 3
   },
   "file_extension": ".py",
   "mimetype": "text/x-python",
   "name": "python",
   "nbconvert_exporter": "python",
   "pygments_lexer": "ipython3",
   "version": "3.9.7"
  }
 },
 "nbformat": 4,
 "nbformat_minor": 5
}
